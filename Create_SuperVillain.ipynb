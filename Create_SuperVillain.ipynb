{
  "nbformat": 4,
  "nbformat_minor": 0,
  "metadata": {
    "colab": {
      "name": "Create SuperVillain",
      "provenance": [],
      "collapsed_sections": [],
      "toc_visible": true,
      "machine_shape": "hm",
      "include_colab_link": true
    },
    "kernelspec": {
      "name": "python3",
      "display_name": "Python 3"
    },
    "accelerator": "GPU"
  },
  "cells": [
    {
      "cell_type": "markdown",
      "metadata": {
        "id": "view-in-github",
        "colab_type": "text"
      },
      "source": [
        "<a href=\"https://colab.research.google.com/github/Shrimpen/Ai-projekt/blob/master/Create_SuperVillain.ipynb\" target=\"_parent\"><img src=\"https://colab.research.google.com/assets/colab-badge.svg\" alt=\"Open In Colab\"/></a>"
      ]
    },
    {
      "cell_type": "markdown",
      "metadata": {
        "id": "OIQ_TPFfnKbR",
        "colab_type": "text"
      },
      "source": [
        "# Skapa en konstverks AI med GAN\n",
        "I denna Colab ska vi med hjälp av GAN (Generative adversarial network) skapa konst, mikrohjältar, pokemonkort eller vad man nu vill!\n",
        "I guiden nedan av Nathan Glover kan man få lite ytterligare tips och inspiration. Det är även denna guides kod som vi använder som grund.\n",
        "[How to generate pokemon cards](https://devopstar.com/2019/05/21/stylegan-pokemon-card-generator/)\n",
        "\n",
        "I koden kör man en algoritm som heter Stylegan, det finns sedan slutet av december [Stylegan 2](https://github.com/NVlabs/stylegan2), den kan man också testa på att använda om man vill.\n",
        "\n"
      ]
    },
    {
      "cell_type": "markdown",
      "metadata": {
        "id": "sAuF7KuNNBWW",
        "colab_type": "text"
      },
      "source": [
        "# Förarbete\n",
        "Börja med att clona github repon. Sen ska du köra cellen nedan för att hämta in den kod vi behöver och att ha rätt version av tensorflow.\n"
      ]
    },
    {
      "cell_type": "code",
      "metadata": {
        "id": "VjClZG7anEI_",
        "colab_type": "code",
        "outputId": "c8b3f066-b074-4fed-e6d2-0070c09c615d",
        "colab": {
          "base_uri": "https://localhost:8080/",
          "height": 332
        }
      },
      "source": [
        "%tensorflow_version 1.x\n",
        "\n",
        "%cd /content/\n",
        "!git clone https://github.com/t04glovern/stylegan-pokemon\n",
        "%cd /content/stylegan-pokemon/\n",
        "!mkdir Weights\n",
        "%cd /content/stylegan-pokemon/Weights\n",
        "!wget https://s3.amazonaws.com/devopstar/resources/stylegan-pokemon/MichaelFriese10_pokemon.pkl\n"
      ],
      "execution_count": 3,
      "outputs": [
        {
          "output_type": "stream",
          "text": [
            "TensorFlow 1.x selected.\n",
            "/content\n",
            "fatal: destination path 'stylegan-pokemon' already exists and is not an empty directory.\n",
            "/content/stylegan-pokemon\n",
            "mkdir: cannot create directory ‘Weights’: File exists\n",
            "/content/stylegan-pokemon/Weights\n",
            "--2020-04-09 13:01:13--  https://s3.amazonaws.com/devopstar/resources/stylegan-pokemon/MichaelFriese10_pokemon.pkl\n",
            "Resolving s3.amazonaws.com (s3.amazonaws.com)... 54.231.97.211\n",
            "Connecting to s3.amazonaws.com (s3.amazonaws.com)|54.231.97.211|:443... connected.\n",
            "HTTP request sent, awaiting response... 200 OK\n",
            "Length: 302550530 (289M) [application/x-www-form-urlencoded]\n",
            "Saving to: ‘MichaelFriese10_pokemon.pkl.1’\n",
            "\n",
            "MichaelFriese10_pok 100%[===================>] 288.53M  46.1MB/s    in 6.7s    \n",
            "\n",
            "2020-04-09 13:01:20 (42.9 MB/s) - ‘MichaelFriese10_pokemon.pkl.1’ saved [302550530/302550530]\n",
            "\n"
          ],
          "name": "stdout"
        }
      ]
    },
    {
      "cell_type": "markdown",
      "metadata": {
        "id": "ZtSc8LVgDdMh",
        "colab_type": "text"
      },
      "source": [
        "#Spara och ladda in från Google Drive\n",
        "Vi börjar med att ansluta till Google drive och skapa mappar för STYLE-GAN om vi inte redan har det. Vi skapar en länk till den nyskapade mappen som vi kallar STYLE-GAN och kommer använda här i koden för att enklare komma åt filer från mappen.\n",
        "### Mer detaljerat:\n",
        "Du börjar med att importera drive, när du på nästa rad mountar den(Ger dig själv åtkomst) får du in på en länk, kopiera en kod och mata in den i terminalen under kodfönstret. Efter det stegar vi in i våran drive, skapar mappen ai och läser vilka mappar som finns där för att se om den skapades.\n",
        "\n",
        "Efter det går vi tillbaka till content igen(Våran Colab files mapp) och lägger en länkad genväg till ai mappen som vi bara kallar /ai, då kommer vi komma åt ai mappens undermappar och filer direkt i colab genom att bara skriva /ai."
      ]
    },
    {
      "cell_type": "code",
      "metadata": {
        "id": "gjJHK7nXDeGb",
        "colab_type": "code",
        "outputId": "00a588b2-b7ee-4b1b-bde2-b73942f9f153",
        "colab": {
          "base_uri": "https://localhost:8080/",
          "height": 159
        }
      },
      "source": [
        "from google.colab import drive\n",
        "drive.mount('/content/drive')\n",
        "# drive.mount(\"/content/drive\", force_remount=True)\n",
        "%cd /content/drive/My Drive/\n",
        "!mkdir STYLE-GAN\n",
        "%ls\n",
        "%cd /content\n",
        "\n",
        "!ln -s \"/content/drive/My Drive/STYLE-GAN\" /STYLE-GAN\n",
        "%cd /STYLE-GAN\n",
        "%ls"
      ],
      "execution_count": 4,
      "outputs": [
        {
          "output_type": "stream",
          "text": [
            "Drive already mounted at /content/drive; to attempt to forcibly remount, call drive.mount(\"/content/drive\", force_remount=True).\n",
            "/content/drive/My Drive\n",
            "mkdir: cannot create directory ‘STYLE-GAN’: File exists\n",
            "\u001b[0m\u001b[01;34mSTYLE-GAN\u001b[0m/\n",
            "/content\n",
            "/content/drive/My Drive/STYLE-GAN\n",
            "\u001b[0m\u001b[01;36mSTYLE-GAN\u001b[0m@\n"
          ],
          "name": "stdout"
        }
      ]
    },
    {
      "cell_type": "markdown",
      "metadata": {
        "id": "k28rhem-wwm1",
        "colab_type": "text"
      },
      "source": [
        "För att ladda in data från driven så använder vi våra snabblänk /STYLE-GAN. Se i nästa kapitlet\n"
      ]
    },
    {
      "cell_type": "markdown",
      "metadata": {
        "id": "3GTVTpV2NKeQ",
        "colab_type": "text"
      },
      "source": [
        "#Ladda in förtränad data och vikt för att fortsätta träna\n"
      ]
    },
    {
      "cell_type": "markdown",
      "metadata": {
        "id": "1I0pHXj1jziX",
        "colab_type": "text"
      },
      "source": [
        "\n",
        "När man tränar/ fortsätter träna så måste man ha en mapp med pkl filen. Det vill säga vikten och en mapp med .tfrecords det vill säga datat.\n",
        "\n",
        "Nu när vi har synkat till driven via länken /STYLE-GAN så kommer vi använda den för att komma åt data och möjliga viktfilen. Vi måste gå in tre filer i mappen stylegan (/content/stylegan-pokemon/stylegan).\n",
        "Dessa är config.py, training_loop.py och train.py.\n",
        "\n",
        "Config filen som man hör har koll på vilka platser man ska ladda in och spara till ifrån. \n",
        "\n",
        "U train säger man vart datat ligger och hur stor datafilen är.\n",
        "\n",
        "I training_loop berättar vi vilken viktfil vi ska köra och på vilket \"varv\" den ska starta på. Varvet är där den pkl filen slutade på och när man  har tränat ett \"tick\" så sparas en pkl fil t.ex `network-snapshot-006085.pkl` då vet man att varvet(resume_kimg) är 6085.\n",
        "\n",
        "\n",
        "\n",
        "\n",
        "\n",
        "## Dessa ska ändras för att det ska fungera.\n",
        "### Training_loop:  \n",
        "#### Fortsätta på påbörjad träning\n",
        "Hitta och ändra till dessa två rader för att börja med en redan påbörjad viktfil.\n",
        "Den första raden säger vart filen ligger och den andra vilken start kimg värde den har.\n",
        "`       resume_run_id           = \"/STYLE-GAN/start.pkl\",     # Run ID or network pkl to resume training from, None = start from scratch. `\n",
        "\n",
        "`    resume_kimg             = 6525, `\n",
        "#### Påbörja ny träning\n",
        "Vill man börja från början ändrar man dem till detta:\n",
        "`       resume_run_id           = None,     # Run ID or network pkl to resume training from, None = start from scratch. `\n",
        "\n",
        "`    resume_kimg             = 0, `\n",
        "\n",
        "\n",
        "\n",
        "### train.py \n",
        "Ändra namnet där datan ligger, det vill säga tffilerna. Vi vill också ändra upplösningen till den vi valt att bilderna ska ha (i mitt fall 256*256 pixlar).\n",
        "```\n",
        "    desc += '-custom';     dataset = EasyDict(tfrecord_dir='data', resolution=256);  \n",
        "```\n",
        "### Config.py\n",
        "Ändrar sökvägen för vart vår data ligger och vart resultatet ska sparas.\n",
        "```\n",
        "result_dir = '/STYLE-GAN/results'\n",
        "data_dir = '/STYLE-GAN'\n",
        "\n",
        "```\n",
        "\n",
        "\n",
        "\n",
        "Efter dessa ändringar är det bara att köra train.py filen.\n",
        "\n"
      ]
    },
    {
      "cell_type": "code",
      "metadata": {
        "id": "JF1mwki7pjZc",
        "colab_type": "code",
        "outputId": "fae563e2-f177-42a7-8f04-30cf92b85d07",
        "colab": {
          "base_uri": "https://localhost:8080/",
          "height": 1000
        }
      },
      "source": [
        "#Train\n",
        "%cd /content/stylegan-pokemon/stylegan\n",
        "!python train.py"
      ],
      "execution_count": 8,
      "outputs": [
        {
          "output_type": "stream",
          "text": [
            "/content/stylegan-pokemon/stylegan\n",
            "WARNING:tensorflow:From /content/stylegan-pokemon/stylegan/dnnlib/tflib/tfutil.py:34: The name tf.Dimension is deprecated. Please use tf.compat.v1.Dimension instead.\n",
            "\n",
            "WARNING:tensorflow:From /content/stylegan-pokemon/stylegan/dnnlib/tflib/tfutil.py:74: The name tf.variable_scope is deprecated. Please use tf.compat.v1.variable_scope instead.\n",
            "\n",
            "WARNING:tensorflow:From /content/stylegan-pokemon/stylegan/dnnlib/tflib/tfutil.py:128: The name tf.Session is deprecated. Please use tf.compat.v1.Session instead.\n",
            "\n",
            "Creating the run dir root: /STYLE-GAN/results\n",
            "Creating the run dir: /STYLE-GAN/results/00000-sgan-custom-1gpu\n",
            "Copying files to the run dir\n",
            "dnnlib: Running training.training_loop.training_loop() on localhost...\n",
            "WARNING:tensorflow:From /content/stylegan-pokemon/stylegan/dnnlib/tflib/tfutil.py:97: The name tf.get_default_session is deprecated. Please use tf.compat.v1.get_default_session instead.\n",
            "\n",
            "WARNING:tensorflow:From /content/stylegan-pokemon/stylegan/dnnlib/tflib/tfutil.py:109: The name tf.set_random_seed is deprecated. Please use tf.compat.v1.set_random_seed instead.\n",
            "\n",
            "WARNING:tensorflow:From /content/stylegan-pokemon/stylegan/dnnlib/tflib/tfutil.py:132: The name tf.ConfigProto is deprecated. Please use tf.compat.v1.ConfigProto instead.\n",
            "\n",
            "Streaming data using training.dataset.TFRecordDataset...\n",
            "WARNING:tensorflow:From /content/stylegan-pokemon/stylegan/training/dataset.py:75: The name tf.python_io.TFRecordOptions is deprecated. Please use tf.io.TFRecordOptions instead.\n",
            "\n",
            "WARNING:tensorflow:From /content/stylegan-pokemon/stylegan/training/dataset.py:75: The name tf.python_io.TFRecordCompressionType is deprecated. Please use tf.compat.v1.python_io.TFRecordCompressionType instead.\n",
            "\n",
            "WARNING:tensorflow:From /content/stylegan-pokemon/stylegan/training/dataset.py:76: tf_record_iterator (from tensorflow.python.lib.io.tf_record) is deprecated and will be removed in a future version.\n",
            "Instructions for updating:\n",
            "Use eager execution and: \n",
            "`tf.data.TFRecordDataset(path)`\n",
            "WARNING:tensorflow:From /content/stylegan-pokemon/stylegan/training/dataset.py:114: The name tf.placeholder is deprecated. Please use tf.compat.v1.placeholder instead.\n",
            "\n",
            "WARNING:tensorflow:From /content/stylegan-pokemon/stylegan/dnnlib/tflib/tfutil.py:196: The name tf.get_default_graph is deprecated. Please use tf.compat.v1.get_default_graph instead.\n",
            "\n",
            "WARNING:tensorflow:From /content/stylegan-pokemon/stylegan/dnnlib/tflib/tfutil.py:200: The name tf.assign is deprecated. Please use tf.compat.v1.assign instead.\n",
            "\n",
            "WARNING:tensorflow:Entity <function parse_tfrecord_tf at 0x7f7117e172f0> could not be transformed and will be executed as-is. Please report this to the AutoGraph team. When filing the bug, set the verbosity to 10 (on Linux, `export AUTOGRAPH_VERBOSITY=10`) and attach the full output. Cause: module 'gast' has no attribute 'Num'\n",
            "WARNING:tensorflow:From /content/stylegan-pokemon/stylegan/training/dataset.py:21: The name tf.parse_single_example is deprecated. Please use tf.io.parse_single_example instead.\n",
            "\n",
            "WARNING:tensorflow:From /content/stylegan-pokemon/stylegan/training/dataset.py:22: The name tf.FixedLenFeature is deprecated. Please use tf.io.FixedLenFeature instead.\n",
            "\n",
            "WARNING:tensorflow:From /tensorflow-1.15.2/python3.6/tensorflow_core/python/data/util/random_seed.py:58: where (from tensorflow.python.ops.array_ops) is deprecated and will be removed in a future version.\n",
            "Instructions for updating:\n",
            "Use tf.where in 2.0, which has the same broadcast rule as np.where\n",
            "WARNING:tensorflow:From /content/stylegan-pokemon/stylegan/training/dataset.py:132: The name tf.data.Iterator is deprecated. Please use tf.compat.v1.data.Iterator instead.\n",
            "\n",
            "WARNING:tensorflow:From /content/stylegan-pokemon/stylegan/training/dataset.py:132: DatasetV1.output_types (from tensorflow.python.data.ops.dataset_ops) is deprecated and will be removed in a future version.\n",
            "Instructions for updating:\n",
            "Use `tf.compat.v1.data.get_output_types(dataset)`.\n",
            "WARNING:tensorflow:From /content/stylegan-pokemon/stylegan/training/dataset.py:132: DatasetV1.output_shapes (from tensorflow.python.data.ops.dataset_ops) is deprecated and will be removed in a future version.\n",
            "Instructions for updating:\n",
            "Use `tf.compat.v1.data.get_output_shapes(dataset)`.\n",
            "WARNING:tensorflow:From /tensorflow-1.15.2/python3.6/tensorflow_core/python/data/ops/iterator_ops.py:347: Iterator.output_types (from tensorflow.python.data.ops.iterator_ops) is deprecated and will be removed in a future version.\n",
            "Instructions for updating:\n",
            "Use `tf.compat.v1.data.get_output_types(iterator)`.\n",
            "WARNING:tensorflow:From /tensorflow-1.15.2/python3.6/tensorflow_core/python/data/ops/iterator_ops.py:348: Iterator.output_shapes (from tensorflow.python.data.ops.iterator_ops) is deprecated and will be removed in a future version.\n",
            "Instructions for updating:\n",
            "Use `tf.compat.v1.data.get_output_shapes(iterator)`.\n",
            "WARNING:tensorflow:From /tensorflow-1.15.2/python3.6/tensorflow_core/python/data/ops/iterator_ops.py:350: Iterator.output_classes (from tensorflow.python.data.ops.iterator_ops) is deprecated and will be removed in a future version.\n",
            "Instructions for updating:\n",
            "Use `tf.compat.v1.data.get_output_classes(iterator)`.\n",
            "Dataset shape = [3, 256, 256]\n",
            "Dynamic range = [0, 255]\n",
            "Label size    = 0\n",
            "Constructing networks...\n",
            "WARNING:tensorflow:From /content/stylegan-pokemon/stylegan/dnnlib/tflib/network.py:150: The name tf.AUTO_REUSE is deprecated. Please use tf.compat.v1.AUTO_REUSE instead.\n",
            "\n",
            "WARNING:tensorflow:From /content/stylegan-pokemon/stylegan/dnnlib/tflib/tfutil.py:76: The name tf.VariableScope is deprecated. Please use tf.compat.v1.VariableScope instead.\n",
            "\n",
            "WARNING:tensorflow:From /content/stylegan-pokemon/stylegan/dnnlib/tflib/network.py:151: The name tf.get_variable_scope is deprecated. Please use tf.compat.v1.get_variable_scope instead.\n",
            "\n",
            "WARNING:tensorflow:From /content/stylegan-pokemon/stylegan/training/networks_stylegan.py:479: The name tf.get_variable is deprecated. Please use tf.compat.v1.get_variable instead.\n",
            "\n",
            "WARNING:tensorflow:From /content/stylegan-pokemon/stylegan/training/networks_stylegan.py:254: The name tf.rsqrt is deprecated. Please use tf.math.rsqrt instead.\n",
            "\n",
            "WARNING:tensorflow:From /content/stylegan-pokemon/stylegan/dnnlib/tflib/network.py:182: The name tf.global_variables is deprecated. Please use tf.compat.v1.global_variables instead.\n",
            "\n",
            "\n",
            "G                             Params    OutputShape         WeightShape     \n",
            "---                           ---       ---                 ---             \n",
            "latents_in                    -         (?, 512)            -               \n",
            "labels_in                     -         (?, 0)              -               \n",
            "lod                           -         ()                  -               \n",
            "dlatent_avg                   -         (512,)              -               \n",
            "G_mapping/latents_in          -         (?, 512)            -               \n",
            "G_mapping/labels_in           -         (?, 0)              -               \n",
            "G_mapping/PixelNorm           -         (?, 512)            -               \n",
            "G_mapping/Dense0              262656    (?, 512)            (512, 512)      \n",
            "G_mapping/Dense1              262656    (?, 512)            (512, 512)      \n",
            "G_mapping/Dense2              262656    (?, 512)            (512, 512)      \n",
            "G_mapping/Dense3              262656    (?, 512)            (512, 512)      \n",
            "G_mapping/Dense4              262656    (?, 512)            (512, 512)      \n",
            "G_mapping/Dense5              262656    (?, 512)            (512, 512)      \n",
            "G_mapping/Dense6              262656    (?, 512)            (512, 512)      \n",
            "G_mapping/Dense7              262656    (?, 512)            (512, 512)      \n",
            "G_mapping/Broadcast           -         (?, 14, 512)        -               \n",
            "G_mapping/dlatents_out        -         (?, 14, 512)        -               \n",
            "Truncation                    -         (?, 14, 512)        -               \n",
            "G_synthesis/dlatents_in       -         (?, 14, 512)        -               \n",
            "G_synthesis/4x4/Const         534528    (?, 512, 4, 4)      (512,)          \n",
            "G_synthesis/4x4/Conv          2885632   (?, 512, 4, 4)      (3, 3, 512, 512)\n",
            "G_synthesis/ToRGB_lod6        1539      (?, 3, 4, 4)        (1, 1, 512, 3)  \n",
            "G_synthesis/8x8/Conv0_up      2885632   (?, 512, 8, 8)      (3, 3, 512, 512)\n",
            "G_synthesis/8x8/Conv1         2885632   (?, 512, 8, 8)      (3, 3, 512, 512)\n",
            "G_synthesis/ToRGB_lod5        1539      (?, 3, 8, 8)        (1, 1, 512, 3)  \n",
            "G_synthesis/Upscale2D         -         (?, 3, 8, 8)        -               \n",
            "G_synthesis/Grow_lod5         -         (?, 3, 8, 8)        -               \n",
            "G_synthesis/16x16/Conv0_up    2885632   (?, 512, 16, 16)    (3, 3, 512, 512)\n",
            "G_synthesis/16x16/Conv1       2885632   (?, 512, 16, 16)    (3, 3, 512, 512)\n",
            "G_synthesis/ToRGB_lod4        1539      (?, 3, 16, 16)      (1, 1, 512, 3)  \n",
            "G_synthesis/Upscale2D_1       -         (?, 3, 16, 16)      -               \n",
            "G_synthesis/Grow_lod4         -         (?, 3, 16, 16)      -               \n",
            "G_synthesis/32x32/Conv0_up    2885632   (?, 512, 32, 32)    (3, 3, 512, 512)\n",
            "G_synthesis/32x32/Conv1       2885632   (?, 512, 32, 32)    (3, 3, 512, 512)\n",
            "G_synthesis/ToRGB_lod3        1539      (?, 3, 32, 32)      (1, 1, 512, 3)  \n",
            "G_synthesis/Upscale2D_2       -         (?, 3, 32, 32)      -               \n",
            "G_synthesis/Grow_lod3         -         (?, 3, 32, 32)      -               \n",
            "G_synthesis/64x64/Conv0_up    1442816   (?, 256, 64, 64)    (3, 3, 512, 256)\n",
            "G_synthesis/64x64/Conv1       852992    (?, 256, 64, 64)    (3, 3, 256, 256)\n",
            "G_synthesis/ToRGB_lod2        771       (?, 3, 64, 64)      (1, 1, 256, 3)  \n",
            "G_synthesis/Upscale2D_3       -         (?, 3, 64, 64)      -               \n",
            "G_synthesis/Grow_lod2         -         (?, 3, 64, 64)      -               \n",
            "G_synthesis/128x128/Conv0_up  426496    (?, 128, 128, 128)  (3, 3, 256, 128)\n",
            "G_synthesis/128x128/Conv1     279040    (?, 128, 128, 128)  (3, 3, 128, 128)\n",
            "G_synthesis/ToRGB_lod1        387       (?, 3, 128, 128)    (1, 1, 128, 3)  \n",
            "G_synthesis/Upscale2D_4       -         (?, 3, 128, 128)    -               \n",
            "G_synthesis/Grow_lod1         -         (?, 3, 128, 128)    -               \n",
            "G_synthesis/256x256/Conv0_up  139520    (?, 64, 256, 256)   (3, 3, 128, 64) \n",
            "G_synthesis/256x256/Conv1     102656    (?, 64, 256, 256)   (3, 3, 64, 64)  \n",
            "G_synthesis/ToRGB_lod0        195       (?, 3, 256, 256)    (1, 1, 64, 3)   \n",
            "G_synthesis/Upscale2D_5       -         (?, 3, 256, 256)    -               \n",
            "G_synthesis/Grow_lod0         -         (?, 3, 256, 256)    -               \n",
            "G_synthesis/images_out        -         (?, 3, 256, 256)    -               \n",
            "G_synthesis/lod               -         ()                  -               \n",
            "G_synthesis/noise0            -         (1, 1, 4, 4)        -               \n",
            "G_synthesis/noise1            -         (1, 1, 4, 4)        -               \n",
            "G_synthesis/noise2            -         (1, 1, 8, 8)        -               \n",
            "G_synthesis/noise3            -         (1, 1, 8, 8)        -               \n",
            "G_synthesis/noise4            -         (1, 1, 16, 16)      -               \n",
            "G_synthesis/noise5            -         (1, 1, 16, 16)      -               \n",
            "G_synthesis/noise6            -         (1, 1, 32, 32)      -               \n",
            "G_synthesis/noise7            -         (1, 1, 32, 32)      -               \n",
            "G_synthesis/noise8            -         (1, 1, 64, 64)      -               \n",
            "G_synthesis/noise9            -         (1, 1, 64, 64)      -               \n",
            "G_synthesis/noise10           -         (1, 1, 128, 128)    -               \n",
            "G_synthesis/noise11           -         (1, 1, 128, 128)    -               \n",
            "G_synthesis/noise12           -         (1, 1, 256, 256)    -               \n",
            "G_synthesis/noise13           -         (1, 1, 256, 256)    -               \n",
            "images_out                    -         (?, 3, 256, 256)    -               \n",
            "---                           ---       ---                 ---             \n",
            "Total                         26086229                                      \n",
            "\n",
            "\n",
            "D                    Params    OutputShape         WeightShape     \n",
            "---                  ---       ---                 ---             \n",
            "images_in            -         (?, 3, 256, 256)    -               \n",
            "labels_in            -         (?, 0)              -               \n",
            "lod                  -         ()                  -               \n",
            "FromRGB_lod0         256       (?, 64, 256, 256)   (1, 1, 3, 64)   \n",
            "256x256/Conv0        36928     (?, 64, 256, 256)   (3, 3, 64, 64)  \n",
            "256x256/Conv1_down   73856     (?, 128, 128, 128)  (3, 3, 64, 128) \n",
            "Downscale2D          -         (?, 3, 128, 128)    -               \n",
            "FromRGB_lod1         512       (?, 128, 128, 128)  (1, 1, 3, 128)  \n",
            "Grow_lod0            -         (?, 128, 128, 128)  -               \n",
            "128x128/Conv0        147584    (?, 128, 128, 128)  (3, 3, 128, 128)\n",
            "128x128/Conv1_down   295168    (?, 256, 64, 64)    (3, 3, 128, 256)\n",
            "Downscale2D_1        -         (?, 3, 64, 64)      -               \n",
            "FromRGB_lod2         1024      (?, 256, 64, 64)    (1, 1, 3, 256)  \n",
            "Grow_lod1            -         (?, 256, 64, 64)    -               \n",
            "64x64/Conv0          590080    (?, 256, 64, 64)    (3, 3, 256, 256)\n",
            "64x64/Conv1_down     1180160   (?, 512, 32, 32)    (3, 3, 256, 512)\n",
            "Downscale2D_2        -         (?, 3, 32, 32)      -               \n",
            "FromRGB_lod3         2048      (?, 512, 32, 32)    (1, 1, 3, 512)  \n",
            "Grow_lod2            -         (?, 512, 32, 32)    -               \n",
            "32x32/Conv0          2359808   (?, 512, 32, 32)    (3, 3, 512, 512)\n",
            "32x32/Conv1_down     2359808   (?, 512, 16, 16)    (3, 3, 512, 512)\n",
            "Downscale2D_3        -         (?, 3, 16, 16)      -               \n",
            "FromRGB_lod4         2048      (?, 512, 16, 16)    (1, 1, 3, 512)  \n",
            "Grow_lod3            -         (?, 512, 16, 16)    -               \n",
            "16x16/Conv0          2359808   (?, 512, 16, 16)    (3, 3, 512, 512)\n",
            "16x16/Conv1_down     2359808   (?, 512, 8, 8)      (3, 3, 512, 512)\n",
            "Downscale2D_4        -         (?, 3, 8, 8)        -               \n",
            "FromRGB_lod5         2048      (?, 512, 8, 8)      (1, 1, 3, 512)  \n",
            "Grow_lod4            -         (?, 512, 8, 8)      -               \n",
            "8x8/Conv0            2359808   (?, 512, 8, 8)      (3, 3, 512, 512)\n",
            "8x8/Conv1_down       2359808   (?, 512, 4, 4)      (3, 3, 512, 512)\n",
            "Downscale2D_5        -         (?, 3, 4, 4)        -               \n",
            "FromRGB_lod6         2048      (?, 512, 4, 4)      (1, 1, 3, 512)  \n",
            "Grow_lod5            -         (?, 512, 4, 4)      -               \n",
            "4x4/MinibatchStddev  -         (?, 513, 4, 4)      -               \n",
            "4x4/Conv             2364416   (?, 512, 4, 4)      (3, 3, 513, 512)\n",
            "4x4/Dense0           4194816   (?, 512)            (8192, 512)     \n",
            "4x4/Dense1           513       (?, 1)              (512, 1)        \n",
            "scores_out           -         (?, 1)              -               \n",
            "---                  ---       ---                 ---             \n",
            "Total                23052353                                      \n",
            "\n",
            "Building TensorFlow graph...\n",
            "WARNING:tensorflow:From /content/stylegan-pokemon/stylegan/training/training_loop.py:167: div (from tensorflow.python.ops.math_ops) is deprecated and will be removed in a future version.\n",
            "Instructions for updating:\n",
            "Deprecated in favor of operator or tf.math.divide.\n",
            "WARNING:tensorflow:From /content/stylegan-pokemon/stylegan/dnnlib/util.py:242: The name tf.train.AdamOptimizer is deprecated. Please use tf.compat.v1.train.AdamOptimizer instead.\n",
            "\n",
            "WARNING:tensorflow:From /content/stylegan-pokemon/stylegan/training/training_loop.py:34: The name tf.random_uniform is deprecated. Please use tf.random.uniform instead.\n",
            "\n",
            "WARNING:tensorflow:From /content/stylegan-pokemon/stylegan/training/loss.py:132: The name tf.random_normal is deprecated. Please use tf.random.normal instead.\n",
            "\n",
            "WARNING:tensorflow:From /content/stylegan-pokemon/stylegan/training/networks_stylegan.py:90: The name tf.nn.avg_pool is deprecated. Please use tf.nn.avg_pool2d instead.\n",
            "\n",
            "WARNING:tensorflow:From /content/stylegan-pokemon/stylegan/dnnlib/tflib/autosummary.py:61: The name tf.is_finite is deprecated. Please use tf.math.is_finite instead.\n",
            "\n",
            "WARNING:tensorflow:From /content/stylegan-pokemon/stylegan/dnnlib/tflib/autosummary.py:65: The name tf.is_variable_initialized is deprecated. Please use tf.compat.v1.is_variable_initialized instead.\n",
            "\n",
            "WARNING:tensorflow:From /content/stylegan-pokemon/stylegan/dnnlib/tflib/autosummary.py:65: The name tf.assign_add is deprecated. Please use tf.compat.v1.assign_add instead.\n",
            "\n",
            "WARNING:tensorflow:From /content/stylegan-pokemon/stylegan/dnnlib/tflib/optimizer.py:98: The name tf.train.Optimizer is deprecated. Please use tf.compat.v1.train.Optimizer instead.\n",
            "\n",
            "WARNING:tensorflow:\n",
            "The TensorFlow contrib module will not be included in TensorFlow 2.0.\n",
            "For more information, please see:\n",
            "  * https://github.com/tensorflow/community/blob/master/rfcs/20180907-contrib-sunset.md\n",
            "  * https://github.com/tensorflow/addons\n",
            "  * https://github.com/tensorflow/io (for I/O related ops)\n",
            "If you depend on functionality not listed there, please file an issue.\n",
            "\n",
            "Setting up snapshot image grid...\n",
            "Setting up run dir...\n",
            "WARNING:tensorflow:From /content/stylegan-pokemon/stylegan/training/training_loop.py:202: The name tf.summary.FileWriter is deprecated. Please use tf.compat.v1.summary.FileWriter instead.\n",
            "\n",
            "Training...\n",
            "\n",
            "tick 1     kimg 140.3    lod 5.00  minibatch 128  time 3m 37s       sec/tick 168.6   sec/kimg 1.20    maintenance 48.0   gpumem 3.0 \n",
            "WARNING:tensorflow:From /content/stylegan-pokemon/stylegan/dnnlib/tflib/autosummary.py:137: The name tf.summary.scalar is deprecated. Please use tf.compat.v1.summary.scalar instead.\n",
            "\n",
            "WARNING:tensorflow:From /content/stylegan-pokemon/stylegan/dnnlib/tflib/autosummary.py:182: The name tf.summary.merge_all is deprecated. Please use tf.compat.v1.summary.merge_all instead.\n",
            "\n",
            "Traceback (most recent call last):\n",
            "  File \"train.py\", line 188, in <module>\n",
            "    main()\n",
            "  File \"train.py\", line 183, in main\n",
            "    dnnlib.submit_run(**kwargs)\n",
            "  File \"/content/stylegan-pokemon/stylegan/dnnlib/submission/submit.py\", line 290, in submit_run\n",
            "    run_wrapper(submit_config)\n",
            "  File \"/content/stylegan-pokemon/stylegan/dnnlib/submission/submit.py\", line 242, in run_wrapper\n",
            "    util.call_func_by_name(func_name=submit_config.run_func_name, submit_config=submit_config, **submit_config.run_func_kwargs)\n",
            "  File \"/content/stylegan-pokemon/stylegan/dnnlib/util.py\", line 257, in call_func_by_name\n",
            "    return func_obj(*args, **kwargs)\n",
            "  File \"/content/stylegan-pokemon/stylegan/training/training_loop.py\", line 230, in training_loop\n",
            "    tflib.run([D_train_op, Gs_update_op], {lod_in: sched.lod, lrate_in: sched.D_lrate, minibatch_in: sched.minibatch})\n",
            "  File \"/content/stylegan-pokemon/stylegan/dnnlib/tflib/tfutil.py\", line 26, in run\n",
            "    return tf.get_default_session().run(*args, **kwargs)\n",
            "  File \"/tensorflow-1.15.2/python3.6/tensorflow_core/python/client/session.py\", line 956, in run\n",
            "    run_metadata_ptr)\n",
            "  File \"/tensorflow-1.15.2/python3.6/tensorflow_core/python/client/session.py\", line 1180, in _run\n",
            "    feed_dict_tensor, options, run_metadata)\n",
            "  File \"/tensorflow-1.15.2/python3.6/tensorflow_core/python/client/session.py\", line 1359, in _do_run\n",
            "    run_metadata)\n",
            "  File \"/tensorflow-1.15.2/python3.6/tensorflow_core/python/client/session.py\", line 1365, in _do_call\n",
            "    return fn(*args)\n",
            "  File \"/tensorflow-1.15.2/python3.6/tensorflow_core/python/client/session.py\", line 1350, in _run_fn\n",
            "    target_list, run_metadata)\n",
            "  File \"/tensorflow-1.15.2/python3.6/tensorflow_core/python/client/session.py\", line 1443, in _call_tf_sessionrun\n",
            "    run_metadata)\n",
            "KeyboardInterrupt\n"
          ],
          "name": "stdout"
        }
      ]
    },
    {
      "cell_type": "markdown",
      "metadata": {
        "id": "7MDw2xvWLBuk",
        "colab_type": "text"
      },
      "source": [
        "Såhär kan det se ut när man tränar:\n",
        "```\n",
        "tick 1     kimg 6205.0   lod 0.00  minibatch 8    time 1h 09m 09s   sec/tick 4082.9  sec/kimg 102.07  maintenance 65.6   gpumem 4.9 \n",
        "tick 2     kimg 6245.0   lod 0.00  minibatch 8    time 2h 17m 19s   sec/tick 4074.3  sec/kimg 101.86  maintenance 15.8   gpumem 4.9 \n",
        "tick 3     kimg 6285.0   lod 0.00  minibatch 8    time 3h 25m 21s   sec/tick 4076.6  sec/kimg 101.91  maintenance 6.0    gpumem 4.9 \n",
        "tick 4     kimg 6325.0   lod 0.00  minibatch 8    time 4h 33m 23s   sec/tick 4075.4  sec/kimg 101.89  maintenance 6.2    gpumem 4.9 \n",
        "tick 5     kimg 6365.0   lod 0.00  minibatch 8    time 5h 41m 18s   sec/tick 4069.3  sec/kimg 101.73  maintenance 5.9    gpumem 4.9 \n",
        "tick 6     kimg 6405.0   lod 0.00  minibatch 8    time 6h 49m 14s   sec/tick 4069.8  sec/kimg 101.75  maintenance 5.7    gpumem 4.9 \n",
        "tick 7     kimg 6445.0   lod 0.00  minibatch 8    time 7h 57m 12s   sec/tick 4072.4  sec/kimg 101.81  maintenance 5.7    gpumem 4.9 \n",
        "tick 8     kimg 6485.0   lod 0.00  minibatch 8    time 9h 05m 13s   sec/tick 4075.1  sec/kimg 101.88  maintenance 5.8    gpumem 4.9\n",
        "```\n",
        "Det ni behöver veta om det är att den första kolumnen berättar hur många tick har gått, den andra hur mycket bättre AIn blir på att rita av träningsdatat. Flkht av detta är hur många batcher det vill säga delar den delar upp det i och tisvariabler som hur många sekunder detta tick tog och den totala körtiden.\n",
        "\n",
        "När skriptet körs skapas en ny mapp i /STYLE-GAN/results som heter något i stil med **00004-sgan-custom-1gpu**, där kommer fakebilder och vikter för varje tick sparas. På fakebilderna ser man hur duktig AIn är på att rita likt den riktiga \"konstnären\".  Vikterna kan du sedan välja att använda för att träna vidare eller skapa konstverk utav.\n",
        "\n",
        "##TIPS\n",
        "När jag kört klart en träningsrunda (8-10 timmar) så tar jag den nyaste vikten och lägger i /STYLE-GAN mappen och byter namn på den till start.pkl. Då får man kolla på fakebilden för att se vilket varv(kimg) den var på och så använder man den som start i nästa träningsrunda.\n"
      ]
    },
    {
      "cell_type": "code",
      "metadata": {
        "id": "Q8CyiMRKCm_K",
        "colab_type": "code",
        "colab": {}
      },
      "source": [
        "from google.colab import drive\n",
        "drive.mount('/content/drive')"
      ],
      "execution_count": 0,
      "outputs": []
    },
    {
      "cell_type": "markdown",
      "metadata": {
        "id": "nTCHc1uuwqtd",
        "colab_type": "text"
      },
      "source": [
        "# Samla in och skapa dataset\n",
        "\n",
        "\n",
        "1.   Skapa mapparna raw och datapng. I raw kommer du lägga de nedladdade bilderna, vi kommer senare konvertera dem till png och flytta över dem till datapng.\n",
        "2.   Nu ska du hämta vart ifrån du vill ha dina bilder som ska bli ett data sätt. Du kan antingen ladda in egna bilder genom att dra dom till mappen datapng. Eller så kan du köra !wget på den sidan där det finns bilderna du vill hämta. Wgetn säger att vi vill spara bilderna i raw, vi vill låta den ladda ner alla bildtyper som är jpeg,jpg,png och gif från den angivnla länken.\n",
        "\n"
      ]
    },
    {
      "cell_type": "code",
      "metadata": {
        "id": "5AylSKb4xNie",
        "colab_type": "code",
        "colab": {}
      },
      "source": [
        "!wget  -nd -r -P  /content/stylegan-pokemon/stylegan/Microheroes/raw -A jpeg,jpg,png,gif http://houseofmicros.x10host.com/images/Marvel/Minis/FairyTales/\n"
      ],
      "execution_count": 0,
      "outputs": []
    },
    {
      "cell_type": "markdown",
      "metadata": {
        "id": "68U6sy7CIDa_",
        "colab_type": "text"
      },
      "source": [
        "\n",
        "\n",
        "3.   Nu går vi in i stylegan och kör prepare.py om vi vill använda den förinstallerade prepare koden(Kika gärna på den). Den gör om alla bilder till samma storlek (512x512). Detta kan man ändra till andra tal i den numeriska talföljden (ex 124, 256 osv). Det den även gör är att den drar ut bilderna, detta fungerar bra i vissa fall men sämre i andra.\n",
        "Av den anledningen så har jag gjort en egen prepare nedan som man kan köra om man istället vill behålla bildens egentliga storlek och bara ändra dess yta.\n",
        "4.   Efter det kör vi dataset_tool.py som gör om bilderna till ett dataset. Jag har lagt att den ska sparas i data. Då skapas en map som heter data med dit dataset. Flytta sedan in den i din STYLE-GAN mapp för att få upp den till din drive\n",
        "5.   Nu är du klar med dit dataset och kan gå upp till \"Ladda in förtränad data och vikt för att fortsätta träna\" och fortsätta med stegen därifrån. \n"
      ]
    },
    {
      "cell_type": "code",
      "metadata": {
        "id": "9GWbfx_ddxNi",
        "colab_type": "code",
        "outputId": "6c38b79a-7a18-49b1-aba5-dd413c8138be",
        "colab": {
          "base_uri": "https://localhost:8080/",
          "height": 35
        }
      },
      "source": [
        "#Prepare code\n",
        "from PIL import Image\n",
        "import os, sys\n",
        "\n",
        "path =\"/raw/\"\n",
        "out=\"/data1/\"\n",
        "\n",
        "dirs = os.listdir( path )\n",
        "n=0\n",
        "count=0\n",
        "for item in dirs:\n",
        "          try:\n",
        "              if os.path.isfile(path+item):\n",
        "                  im = Image.open(path+item)\n",
        "                  \n",
        "                  background = Image.new('RGB', (256, 256), (255, 255,255))\n",
        "                  #background.paste(im, mask=im.split()[3]) #För Gif (transparenta)\n",
        "                  #background.paste(im, mask=im.split()[3]) #För Bilder med bakgrundsfärg\n",
        "                  background.save(out +  item +'.png', 'png', quality=90)\n",
        "                  n+=1\n",
        "              \n",
        "          except Exception as e:\n",
        "              print(e)\n",
        "print(\"Done with converting \",n, \"to png.\")"
      ],
      "execution_count": 5,
      "outputs": [
        {
          "output_type": "stream",
          "text": [
            "Done with converting  569 to png.\n"
          ],
          "name": "stdout"
        }
      ]
    },
    {
      "cell_type": "code",
      "metadata": {
        "id": "zh3adHVfo7yj",
        "colab_type": "code",
        "outputId": "4008c8c0-ae68-4d26-9868-33c9fc94dfc6",
        "colab": {
          "base_uri": "https://localhost:8080/",
          "height": 315
        }
      },
      "source": [
        "%cd /content/stylegan-pokemon/stylegan\n",
        "\n",
        "#!python prepare.py\n",
        "!python dataset_tool.py create_from_images /data /datapng"
      ],
      "execution_count": 7,
      "outputs": [
        {
          "output_type": "stream",
          "text": [
            "/content/stylegan-pokemon/stylegan\n",
            "WARNING:tensorflow:From /content/stylegan-pokemon/stylegan/dnnlib/tflib/tfutil.py:34: The name tf.Dimension is deprecated. Please use tf.compat.v1.Dimension instead.\n",
            "\n",
            "WARNING:tensorflow:From /content/stylegan-pokemon/stylegan/dnnlib/tflib/tfutil.py:74: The name tf.variable_scope is deprecated. Please use tf.compat.v1.variable_scope instead.\n",
            "\n",
            "WARNING:tensorflow:From /content/stylegan-pokemon/stylegan/dnnlib/tflib/tfutil.py:128: The name tf.Session is deprecated. Please use tf.compat.v1.Session instead.\n",
            "\n",
            "Loading images from \"/data1\"\n",
            "Creating dataset \"/STYLE_GAN/data\"\n",
            "WARNING:tensorflow:From dataset_tool.py:75: The name tf.python_io.TFRecordOptions is deprecated. Please use tf.io.TFRecordOptions instead.\n",
            "\n",
            "WARNING:tensorflow:From dataset_tool.py:75: The name tf.python_io.TFRecordCompressionType is deprecated. Please use tf.compat.v1.python_io.TFRecordCompressionType instead.\n",
            "\n",
            "WARNING:tensorflow:From dataset_tool.py:78: The name tf.python_io.TFRecordWriter is deprecated. Please use tf.io.TFRecordWriter instead.\n",
            "\n",
            "Added 569 images.\n"
          ],
          "name": "stdout"
        }
      ]
    },
    {
      "cell_type": "markdown",
      "metadata": {
        "id": "eKUkN7hFJx8n",
        "colab_type": "text"
      },
      "source": [
        "### Ta bort bildfilerna.\n",
        "Om man vill ta bort filerna så kör följande kommandon, annars försvinner de ändå automatiskt när runtimen är över."
      ]
    },
    {
      "cell_type": "code",
      "metadata": {
        "id": "fOt0UdD-gSY_",
        "colab_type": "code",
        "colab": {}
      },
      "source": [
        "# !rm /content/stylegan-pokemon/stylegan/Microheroes/data/*\n",
        "# !rm /content/stylegan-pokemon/stylegan/Microheroes/raw/*"
      ],
      "execution_count": 0,
      "outputs": []
    },
    {
      "cell_type": "markdown",
      "metadata": {
        "id": "3ab4K0mOzMsQ",
        "colab_type": "text"
      },
      "source": [
        "StyleGan 2\n",
        "[stylegan2](https://github.com/NVlabs/stylegan2)"
      ]
    }
  ]
}