{
  "nbformat": 4,
  "nbformat_minor": 0,
  "metadata": {
    "colab": {
      "name": "Create SuperVillain",
      "provenance": [],
      "collapsed_sections": [],
      "machine_shape": "hm",
      "include_colab_link": true
    },
    "kernelspec": {
      "name": "python3",
      "display_name": "Python 3"
    },
    "accelerator": "GPU"
  },
  "cells": [
    {
      "cell_type": "markdown",
      "metadata": {
        "id": "view-in-github",
        "colab_type": "text"
      },
      "source": [
        "<a href=\"https://colab.research.google.com/github/Shrimpen/Ai-projekt/blob/master/Create_SuperVillain.ipynb\" target=\"_parent\"><img src=\"https://colab.research.google.com/assets/colab-badge.svg\" alt=\"Open In Colab\"/></a>"
      ]
    },
    {
      "cell_type": "markdown",
      "metadata": {
        "id": "OIQ_TPFfnKbR",
        "colab_type": "text"
      },
      "source": [
        "# Skapa en konstverks AI med GAN\n",
        "I denna Colab ska vi med hjälp av GAN (Generative adversarial network) skapa konst, mikrohjältar, pokemonkort eller vad man nu vill!\n",
        "I guiden nedan av Nathan Glover kan man få lite ytterligare tips och inspiration. Det är även denna guides kod som vi använder som grund.\n",
        "[How to generate pokemon cards](https://devopstar.com/2019/05/21/stylegan-pokemon-card-generator/)\n",
        "\n",
        "I koden kör man en algoritm som heter Stylegan, det finns sedan slutet av december [Stylegan 2](https://github.com/NVlabs/stylegan2), den kan man också testa på att använda om man vill.\n",
        "\n"
      ]
    },
    {
      "cell_type": "markdown",
      "metadata": {
        "id": "sAuF7KuNNBWW",
        "colab_type": "text"
      },
      "source": [
        "# Förarbete\n",
        "Börja med att clona github repon. Sen ska du köra cellen nedan för att hämta in den kod vi behöver och att ha rätt version av tensorflow.\n"
      ]
    },
    {
      "cell_type": "code",
      "metadata": {
        "id": "VjClZG7anEI_",
        "colab_type": "code",
        "colab": {}
      },
      "source": [
        "%tensorflow_version 1.x\n",
        "\n",
        "%cd /content/\n",
        "!git clone https://github.com/t04glovern/stylegan-pokemon\n",
        "%cd /content/stylegan-pokemon/\n",
        "!mkdir Weights\n",
        "%cd /content/stylegan-pokemon/Weights\n",
        "!wget https://s3.amazonaws.com/devopstar/resources/stylegan-pokemon/MichaelFriese10_pokemon.pkl\n"
      ],
      "execution_count": 0,
      "outputs": []
    },
    {
      "cell_type": "markdown",
      "metadata": {
        "id": "ZtSc8LVgDdMh",
        "colab_type": "text"
      },
      "source": [
        "#Spara och ladda in från Google Drive\n",
        "Vi börjar med att ansluta till Google drive och skapa mappar för STYLE-GAN om vi inte redan har det. Vi skapar en länk till den nyskapade mappen som vi kallar STYLE-GAN och kommer använda här i koden för att enklare komma åt filer från mappen.\n",
        "### Mer detaljerat:\n",
        "Du börjar med att importera drive, när du på nästa rad mountar den(Ger dig själv åtkomst) får du in på en länk, kopiera en kod och mata in den i terminalen under kodfönstret. Efter det stegar vi in i våran drive, skapar mappen ai och läser vilka mappar som finns där för att se om den skapades.\n",
        "\n",
        "Efter det går vi tillbaka till content igen(Våran Colab files mapp) och lägger en länkad genväg till ai mappen som vi bara kallar /ai, då kommer vi komma åt ai mappens undermappar och filer direkt i colab genom att bara skriva /ai."
      ]
    },
    {
      "cell_type": "code",
      "metadata": {
        "id": "gjJHK7nXDeGb",
        "colab_type": "code",
        "colab": {}
      },
      "source": [
        "from google.colab import drive\n",
        "drive.mount('/content/drive')\n",
        "# drive.mount(\"/content/drive\", force_remount=True)\n",
        "%cd /content/drive/My Drive/\n",
        "!mkdir STYLE-GAN\n",
        "%ls\n",
        "%cd /content\n",
        "\n",
        "!ln -s \"/content/drive/My Drive/STYLE-GAN\" /STYLE-GAN\n",
        "%cd /STYLE-GAN\n",
        "%ls"
      ],
      "execution_count": 0,
      "outputs": []
    },
    {
      "cell_type": "markdown",
      "metadata": {
        "id": "k28rhem-wwm1",
        "colab_type": "text"
      },
      "source": [
        "För att ladda in data från driven så använder vi våra snabblänk /STYLE-GAN. Se i nästa kapitlet\n"
      ]
    },
    {
      "cell_type": "markdown",
      "metadata": {
        "id": "3GTVTpV2NKeQ",
        "colab_type": "text"
      },
      "source": [
        "#Ladda in förtränad data och vikt för att fortsätta träna\n"
      ]
    },
    {
      "cell_type": "markdown",
      "metadata": {
        "id": "1I0pHXj1jziX",
        "colab_type": "text"
      },
      "source": [
        "\n",
        "När man tränar/ fortsätter träna så måste man ha en mapp med pkl filen. Det vill säga vikten och en mapp med .tfrecords det vill säga datat.\n",
        "\n",
        "Nu när vi har synkat till driven via länken /STYLE-GAN så kommer vi använda den för att komma åt data och möjliga viktfilen. Vi måste gå in tre filer i mappen stylegan (/content/stylegan-pokemon/stylegan).\n",
        "Dessa är config.py, training_loop.py och train.py.\n",
        "\n",
        "Config filen som man hör har koll på vilka platser man ska ladda in och spara till ifrån. \n",
        "\n",
        "U train säger man vart datat ligger och hur stor datafilen är.\n",
        "\n",
        "I training_loop berättar vi vilken viktfil vi ska köra och på vilket \"varv\" den ska starta på. Varvet är där den pkl filen slutade på och när man  har tränat ett \"tick\" så sparas en pkl fil t.ex `network-snapshot-006085.pkl` då vet man att varvet(resume_kimg) är 6085.\n",
        "\n",
        "\n",
        "\n",
        "\n",
        "\n",
        "## Dessa ska ändras för att det ska fungera.\n",
        "### Training_loop:  \n",
        "#### Fortsätta på påbörjad träning\n",
        "Hitta och ändra till dessa två rader för att börja med en redan påbörjad viktfil.\n",
        "Den första raden säger vart filen ligger och den andra vilken start kimg värde den har.\n",
        "`       resume_run_id           = \"/STYLE-GAN/start.pkl\",     # Run ID or network pkl to resume training from, None = start from scratch. `\n",
        "\n",
        "`    resume_kimg             = 6525, `\n",
        "#### Påbörja ny träning\n",
        "Vill man börja från början ändrar man dem till detta:\n",
        "`       resume_run_id           = None,     # Run ID or network pkl to resume training from, None = start from scratch. `\n",
        "\n",
        "`    resume_kimg             = 0, `\n",
        "\n",
        "\n",
        "\n",
        "### train.py \n",
        "Ändra namnet där datan ligger, det vill säga tffilerna. Vi vill också ändra upplösningen till den vi valt att bilderna ska ha (i mitt fall 256*256 pixlar).\n",
        "```\n",
        "    desc += '-custom';     dataset = EasyDict(tfrecord_dir='data', resolution=256);  \n",
        "```\n",
        "### Config.py\n",
        "Ändrar sökvägen för vart vår data ligger och vart resultatet ska sparas.\n",
        "```\n",
        "result_dir = '/STYLE-GAN/results'\n",
        "data_dir = '/STYLE-GAN'\n",
        "\n",
        "```\n",
        "\n",
        "\n",
        "\n",
        "Efter dessa ändringar är det bara att köra train.py filen.\n",
        "\n"
      ]
    },
    {
      "cell_type": "code",
      "metadata": {
        "id": "JF1mwki7pjZc",
        "colab_type": "code",
        "colab": {}
      },
      "source": [
        "#Train\n",
        "%cd /content/stylegan-pokemon/stylegan\n",
        "!python train.py"
      ],
      "execution_count": 0,
      "outputs": []
    },
    {
      "cell_type": "markdown",
      "metadata": {
        "id": "7MDw2xvWLBuk",
        "colab_type": "text"
      },
      "source": [
        "Såhär kan det se ut när man tränar:\n",
        "```\n",
        "tick 1     kimg 6205.0   lod 0.00  minibatch 8    time 1h 09m 09s   sec/tick 4082.9  sec/kimg 102.07  maintenance 65.6   gpumem 4.9 \n",
        "tick 2     kimg 6245.0   lod 0.00  minibatch 8    time 2h 17m 19s   sec/tick 4074.3  sec/kimg 101.86  maintenance 15.8   gpumem 4.9 \n",
        "tick 3     kimg 6285.0   lod 0.00  minibatch 8    time 3h 25m 21s   sec/tick 4076.6  sec/kimg 101.91  maintenance 6.0    gpumem 4.9 \n",
        "tick 4     kimg 6325.0   lod 0.00  minibatch 8    time 4h 33m 23s   sec/tick 4075.4  sec/kimg 101.89  maintenance 6.2    gpumem 4.9 \n",
        "tick 5     kimg 6365.0   lod 0.00  minibatch 8    time 5h 41m 18s   sec/tick 4069.3  sec/kimg 101.73  maintenance 5.9    gpumem 4.9 \n",
        "tick 6     kimg 6405.0   lod 0.00  minibatch 8    time 6h 49m 14s   sec/tick 4069.8  sec/kimg 101.75  maintenance 5.7    gpumem 4.9 \n",
        "tick 7     kimg 6445.0   lod 0.00  minibatch 8    time 7h 57m 12s   sec/tick 4072.4  sec/kimg 101.81  maintenance 5.7    gpumem 4.9 \n",
        "tick 8     kimg 6485.0   lod 0.00  minibatch 8    time 9h 05m 13s   sec/tick 4075.1  sec/kimg 101.88  maintenance 5.8    gpumem 4.9\n",
        "```\n",
        "Det ni behöver veta om det är att den första kolumnen berättar hur många tick har gått, den andra hur mycket bättre AIn blir på att rita av träningsdatat. Flkht av detta är hur många batcher det vill säga delar den delar upp det i och tisvariabler som hur många sekunder detta tick tog och den totala körtiden.\n",
        "\n",
        "När skriptet körs skapas en ny mapp i /STYLE-GAN/results som heter något i stil med **00004-sgan-custom-1gpu**, där kommer fakebilder och vikter för varje tick sparas. På fakebilderna ser man hur duktig AIn är på att rita likt den riktiga \"konstnären\".  Vikterna kan du sedan välja att använda för att träna vidare eller skapa konstverk utav.\n",
        "\n",
        "##TIPS\n",
        "När jag kört klart en träningsrunda (8-10 timmar) så tar jag den nyaste vikten och lägger i /STYLE-GAN mappen och byter namn på den till start.pkl. Då får man kolla på fakebilden för att se vilket varv(kimg) den var på och så använder man den som start i nästa träningsrunda.\n"
      ]
    },
    {
      "cell_type": "code",
      "metadata": {
        "id": "Q8CyiMRKCm_K",
        "colab_type": "code",
        "colab": {}
      },
      "source": [
        "from google.colab import drive\n",
        "drive.mount('/content/drive')"
      ],
      "execution_count": 0,
      "outputs": []
    },
    {
      "cell_type": "markdown",
      "metadata": {
        "id": "nTCHc1uuwqtd",
        "colab_type": "text"
      },
      "source": [
        "# Samla in och skapa dataset\n",
        "\n",
        "\n",
        "1.   Skapa mapparna raw och datapng. I raw kommer du lägga de nedladdade bilderna, vi kommer senare konvertera dem till png och flytta över dem till datapng.\n",
        "2.   Nu ska du hämta vart ifrån du vill ha dina bilder som ska bli ett data sätt. Du kan antingen ladda in egna bilder genom att dra dom till mappen raw. Eller så kan du köra !wget på den sidan där det finns bilderna du vill hämta. Wgetn säger att vi vill spara bilderna i raw, vi vill låta den ladda ner alla bildtyper som är jpeg,jpg,png och gif från den angivnla länken.\n",
        "\n"
      ]
    },
    {
      "cell_type": "code",
      "metadata": {
        "id": "5AylSKb4xNie",
        "colab_type": "code",
        "colab": {}
      },
      "source": [
        "!wget  -nd -r -P  /content/stylegan-pokemon/stylegan/Microheroes/raw -A jpeg,jpg,png,gif http://houseofmicros.x10host.com/images/Marvel/Minis/FairyTales/\n"
      ],
      "execution_count": 0,
      "outputs": []
    },
    {
      "cell_type": "markdown",
      "metadata": {
        "id": "68U6sy7CIDa_",
        "colab_type": "text"
      },
      "source": [
        "\n",
        "\n",
        "3.   Nu går vi in i stylegan och kör prepare.py om vi vill använda den förinstallerade prepare koden(Kika gärna på den). Den gör om alla bilder till samma storlek (512x512). Detta kan man ändra till andra tal i den numeriska talföljden (ex 124, 256 osv). Det den även gör är att den drar ut bilderna, detta fungerar bra i vissa fall men sämre i andra.\n",
        "Av den anledningen så har jag gjort en egen prepare nedan som man kan köra om man istället vill behålla bildens egentliga storlek och bara ändra dess yta.\n",
        "4.   Efter det kör vi dataset_tool.py som gör om bilderna till ett dataset. Jag har lagt att den ska sparas i data. Då skapas en map som heter data med dit dataset. Flytta sedan in den i din STYLE-GAN mapp för att få upp den till din drive\n",
        "5.   Nu är du klar med dit dataset och kan gå upp till \"Ladda in förtränad data och vikt för att fortsätta träna\" och fortsätta med stegen därifrån. \n"
      ]
    },
    {
      "cell_type": "code",
      "metadata": {
        "id": "9GWbfx_ddxNi",
        "colab_type": "code",
        "outputId": "6c38b79a-7a18-49b1-aba5-dd413c8138be",
        "colab": {
          "base_uri": "https://localhost:8080/",
          "height": 35
        }
      },
      "source": [
        "#Prepare code\n",
        "from PIL import Image\n",
        "import os, sys\n",
        "\n",
        "path =\"/raw/\"\n",
        "out=\"/data1/\"\n",
        "\n",
        "dirs = os.listdir( path )\n",
        "n=0\n",
        "count=0\n",
        "for item in dirs:\n",
        "          try:\n",
        "              if os.path.isfile(path+item):\n",
        "                  im = Image.open(path+item)\n",
        "                  \n",
        "                  background = Image.new('RGB', (256, 256), (255, 255,255))\n",
        "                  #background.paste(im, mask=im.split()[3]) #För Gif (transparenta)\n",
        "                  #background.paste(im, mask=im.split()[3]) #För Bilder med bakgrundsfärg\n",
        "                  background.save(out +  item +'.png', 'png', quality=90)\n",
        "                  n+=1\n",
        "              \n",
        "          except Exception as e:\n",
        "              print(e)\n",
        "print(\"Done with converting \",n, \"to png.\")"
      ],
      "execution_count": 0,
      "outputs": [
        {
          "output_type": "stream",
          "text": [
            "Done with converting  569 to png.\n"
          ],
          "name": "stdout"
        }
      ]
    },
    {
      "cell_type": "code",
      "metadata": {
        "id": "zh3adHVfo7yj",
        "colab_type": "code",
        "colab": {}
      },
      "source": [
        "%cd /content/stylegan-pokemon/stylegan\n",
        "\n",
        "#!python prepare.py\n",
        "!python dataset_tool.py create_from_images /data /datapng"
      ],
      "execution_count": 0,
      "outputs": []
    },
    {
      "cell_type": "markdown",
      "metadata": {
        "id": "eKUkN7hFJx8n",
        "colab_type": "text"
      },
      "source": [
        "### Ta bort bildfilerna.\n",
        "Om man vill ta bort filerna så kör följande kommandon, annars försvinner de ändå automatiskt när runtimen är över."
      ]
    },
    {
      "cell_type": "code",
      "metadata": {
        "id": "fOt0UdD-gSY_",
        "colab_type": "code",
        "colab": {}
      },
      "source": [
        "# !rm /content/stylegan-pokemon/stylegan/Microheroes/data/*\n",
        "# !rm /content/stylegan-pokemon/stylegan/Microheroes/raw/*"
      ],
      "execution_count": 0,
      "outputs": []
    },
    {
      "cell_type": "markdown",
      "metadata": {
        "id": "3ab4K0mOzMsQ",
        "colab_type": "text"
      },
      "source": [
        "StyleGan 2\n",
        "[stylegan2](https://github.com/NVlabs/stylegan2)"
      ]
    }
  ]
}